{
 "cells": [
  {
   "cell_type": "code",
   "execution_count": 124,
   "metadata": {},
   "outputs": [],
   "source": [
    "import requests\n",
    "import os"
   ]
  },
  {
   "cell_type": "code",
   "execution_count": 125,
   "metadata": {},
   "outputs": [],
   "source": [
    "def get_token():\n",
    "    payload = \"{\\\"username\\\":\\\"zihe.goh@gmail.com\\\",\\\"password\\\":\\\"49lD-CIv.SW%RT2S@&:&\\\"}\"\n",
    "    token_api = 'https://services.packtpub.com/auth-v1/users/tokens'\n",
    "\n",
    "    #r = requests.options(token_api)\n",
    "    r = requests.post(token_api, data=payload)\n",
    "    json = r.json()\n",
    "\n",
    "    if json is not None:\n",
    "        if 'data' in json and 'access' in json['data']:\n",
    "            access = json['data']['access']\n",
    "            return access\n",
    "    return None"
   ]
  },
  {
   "cell_type": "code",
   "execution_count": 151,
   "metadata": {},
   "outputs": [],
   "source": [
    "def get_products(access, offset, limit):\n",
    "    products = []\n",
    "    product_api = f'https://services.packtpub.com/entitlements-v1/users/me/products?sort=createdAt:DESC&offset={offset}&limit={limit}'\n",
    "    headers = {\n",
    "        \"accept\":\"application/json, text/plain, */*\",\n",
    "        \"accept-language\":\"en-US,en;q=0.9\",\n",
    "        \"authorization\":f\"Bearer {access}\",\n",
    "        \"sec-fetch-mode\":\"cors\",\n",
    "        \"sec-fetch-site\":\"same-site\"\n",
    "    }\n",
    "    r = requests.get(product_api, headers=headers)\n",
    "    json = r.json()\n",
    "\n",
    "    if json is not None:\n",
    "        if 'data' in json:\n",
    "            for item in json['data']:\n",
    "                productName = item['productName']\n",
    "                productId = item['productId']\n",
    "                products.append({'productName': productName, 'productId': productId})\n",
    "    return products"
   ]
  },
  {
   "cell_type": "code",
   "execution_count": 136,
   "metadata": {},
   "outputs": [],
   "source": [
    "def download(access, product, api):\n",
    "    productId = product['productId']\n",
    "    productName = product['productName']\n",
    "    \n",
    "    api = f'https://services.packtpub.com/products-v1/products/{productId}/files/{api}'\n",
    "    headers = {\n",
    "        \"accept\":\"application/json, text/plain, */*\",\n",
    "        \"accept-language\":\"en-US,en;q=0.9\",\n",
    "        \"authorization\":f\"Bearer {access}\",\n",
    "        \"sec-fetch-mode\":\"cors\",\n",
    "        \"sec-fetch-site\":\"same-site\"\n",
    "    }\n",
    "    r = requests.get(api, headers=headers)\n",
    "    json = r.json()\n",
    "    \n",
    "    if json is not None:\n",
    "        if 'data' in json:\n",
    "            r = requests.get(json['data'])\n",
    "            \n",
    "            return r.content"
   ]
  },
  {
   "cell_type": "code",
   "execution_count": 137,
   "metadata": {},
   "outputs": [],
   "source": [
    "def download_epub(access, product, path):\n",
    "    data = download(access, product, 'epub')\n",
    "    productName = product['productName']\n",
    "    \n",
    "    if data is not None:\n",
    "        with open(f'{path}/{productName}.epub', 'wb') as file:\n",
    "            file.write(data)"
   ]
  },
  {
   "cell_type": "code",
   "execution_count": 138,
   "metadata": {},
   "outputs": [],
   "source": [
    "def download_mobi(access, product, path):\n",
    "    data = download(access, product, 'mobi')\n",
    "    productName = product['productName']\n",
    "    \n",
    "    if data is not None:\n",
    "        with open(f'{path}/{productName}.mobi', 'wb') as file:\n",
    "            file.write(data)"
   ]
  },
  {
   "cell_type": "code",
   "execution_count": 139,
   "metadata": {},
   "outputs": [],
   "source": [
    "def download_pdf(access, product, path):\n",
    "    data = download(access, product, 'pdf')\n",
    "    productName = product['productName']\n",
    "    \n",
    "    if data is not None:\n",
    "        with open(f'{path}/{productName}.pdf', 'wb') as file:\n",
    "            file.write(data)"
   ]
  },
  {
   "cell_type": "code",
   "execution_count": 140,
   "metadata": {},
   "outputs": [],
   "source": [
    "def download_code(access, product, path):\n",
    "    data = download(access, product, 'code')\n",
    "    productName = product['productName']\n",
    "    \n",
    "    if data is not None:\n",
    "        with open(f'{path}/{productName}_Code.zip', 'wb') as file:\n",
    "            file.write(data)"
   ]
  },
  {
   "cell_type": "code",
   "execution_count": 153,
   "metadata": {},
   "outputs": [],
   "source": [
    "access = get_token()"
   ]
  },
  {
   "cell_type": "code",
   "execution_count": null,
   "metadata": {},
   "outputs": [
    {
     "name": "stdout",
     "output_type": "stream",
     "text": [
      "{'data': [{'id': '8deaaa94-28e2-36be-805e-0cb79248e31b', 'userId': '0b594ff1-79ef-4495-8c4c-b36a9d94b5d0', 'productId': '9781783286836', 'productName': 'Go Cookbook', 'releaseDate': '2017-06-28T00:00:00.000Z', 'entitlementSource': 'free learning', 'entitlementLink': '7b7e227e-0137-3a45-a063-5ae24db81847', 'createdAt': '2018-12-16T02:05:42.000Z', 'updatedAt': '2018-12-18T12:00:35.172Z'}, {'id': 'bc16db7b-1310-38f3-a778-710097b0e5b6', 'userId': '0b594ff1-79ef-4495-8c4c-b36a9d94b5d0', 'productId': '9781786466273', 'productName': 'Applied Network Security', 'releaseDate': '2017-04-28T00:00:00.000Z', 'entitlementSource': 'free learning', 'entitlementLink': '15542abc-ac62-3da6-a050-3b81ac321898', 'createdAt': '2018-12-14T00:36:27.000Z', 'updatedAt': '2018-12-18T12:00:26.695Z'}, {'id': '229c24f2-8740-340b-93cd-b212ac404bb1', 'userId': '0b594ff1-79ef-4495-8c4c-b36a9d94b5d0', 'productId': '9781784390495', 'productName': 'Windows Forensics Cookbook', 'releaseDate': '2017-08-04T00:00:00.000Z', 'entitlementSource': 'free learning', 'entitlementLink': '91b7a42f-e85f-307a-a06b-cc6fe7da3387', 'createdAt': '2018-12-11T00:46:29.000Z', 'updatedAt': '2018-12-20T19:11:15.189Z'}, {'id': '3f93ce94-9738-3932-95e9-f8f85376cda1', 'userId': '0b594ff1-79ef-4495-8c4c-b36a9d94b5d0', 'productId': '9781787126305', 'productName': 'Mastering Windows PowerShell Scripting (Second Edition)', 'releaseDate': '2017-10-27T00:00:00.000Z', 'entitlementSource': 'free learning', 'entitlementLink': '2aef92a0-1b13-3cff-8736-ae103eb79266', 'createdAt': '2018-12-07T01:16:18.000Z', 'updatedAt': '2018-12-20T19:11:15.189Z'}, {'id': 'b76263ab-0a2a-3cff-8556-2c71bc5335a2', 'userId': '0b594ff1-79ef-4495-8c4c-b36a9d94b5d0', 'productId': '9781785281655', 'productName': 'Docker on Windows', 'releaseDate': '2017-07-13T00:00:00.000Z', 'entitlementSource': 'free learning', 'entitlementLink': 'a9580a39-2530-374d-a0b3-098a2e372b87', 'createdAt': '2018-11-26T01:21:28.000Z', 'updatedAt': '2018-12-02T18:54:57.000Z'}, {'id': '3af5d84b-1c33-3601-bba8-5e9450b8a3b8', 'userId': '0b594ff1-79ef-4495-8c4c-b36a9d94b5d0', 'productId': '9781788290142', 'productName': 'Microsoft Power BI Cookbook', 'releaseDate': '2017-09-27T00:00:00.000Z', 'entitlementSource': 'free learning', 'entitlementLink': 'b42bd03a-6614-3135-99b8-3a1d3bf37d8e', 'createdAt': '2018-11-19T15:17:49.000Z', 'updatedAt': '2018-11-20T18:15:41.000Z'}, {'id': '2cb39991-21ef-3ec2-be1c-7c7a5b0a6f5c', 'userId': '0b594ff1-79ef-4495-8c4c-b36a9d94b5d0', 'productId': '9781788396646', 'productName': 'DevOps with Kubernetes', 'releaseDate': '2017-10-16T00:00:00.000Z', 'entitlementSource': 'free learning', 'entitlementLink': 'fab362d3-fc3d-390a-ad29-d874d34b3d5a', 'createdAt': '2018-11-17T08:21:30.000Z', 'updatedAt': '2018-11-18T17:54:19.000Z'}, {'id': '5e248145-03e5-3031-94d2-62c933a7a480', 'userId': '0b594ff1-79ef-4495-8c4c-b36a9d94b5d0', 'productId': '9781783980284', 'productName': 'Machine Learning for OpenCV', 'releaseDate': '2017-07-14T00:00:00.000Z', 'entitlementSource': 'free learning', 'entitlementLink': '1cc5e737-98e4-36f0-895f-7f484093a8ad', 'createdAt': '2018-11-15T07:11:36.000Z', 'updatedAt': '2018-11-18T17:54:09.000Z'}, {'id': '38b5b12a-12c5-3409-9205-ae6c5eddc4df', 'userId': '0b594ff1-79ef-4495-8c4c-b36a9d94b5d0', 'productId': '9781785881114', 'productName': 'Python Microservices Development', 'releaseDate': '2017-07-25T00:00:00.000Z', 'entitlementSource': 'free learning', 'entitlementLink': '2daaa77d-29ca-3a4f-a663-1734b52c65b8', 'createdAt': '2018-11-10T03:31:04.000Z', 'updatedAt': '2018-11-14T21:31:06.000Z'}, {'id': '489e1e79-1aea-33d4-8142-a38d20ba4ea9', 'userId': '0b594ff1-79ef-4495-8c4c-b36a9d94b5d0', 'productId': '9781787121706', 'productName': 'Mastering C++ Multithreading', 'releaseDate': '2017-07-28T00:00:00.000Z', 'entitlementSource': 'free learning', 'entitlementLink': '17e78cfd-57be-3ab2-ad09-d30871e3760a', 'createdAt': '2018-11-09T00:49:40.000Z', 'updatedAt': '2018-11-09T14:37:32.000Z'}], 'count': 170}\n",
      "Downloading Go Cookbook done.\n",
      "Downloading Applied Network Security done.\n",
      "Downloading Windows Forensics Cookbook done.\n",
      "Downloading Mastering Windows PowerShell Scripting (Second Edition) done.\n",
      "Downloading Docker on Windows done.\n",
      "Downloading Microsoft Power BI Cookbook done.\n",
      "Downloading DevOps with Kubernetes done.\n",
      "Downloading Machine Learning for OpenCV done.\n",
      "Downloading Python Microservices Development done.\n",
      "Downloading Mastering C++ Multithreading done.\n",
      "{'data': [{'id': '08b02480-e304-31bd-910f-4c4a858347fd', 'userId': '0b594ff1-79ef-4495-8c4c-b36a9d94b5d0', 'productId': '9781788628815', 'productName': 'Understanding Software', 'releaseDate': '2017-09-29T00:00:00.000Z', 'entitlementSource': 'free learning', 'entitlementLink': 'a32733bf-67c0-36c8-975b-d2739cfa30cc', 'createdAt': '2018-11-08T00:58:41.000Z', 'updatedAt': '2018-11-09T14:37:30.000Z'}, {'id': '41f0f123-d07c-3c43-b05c-6fc440576011', 'userId': '0b594ff1-79ef-4495-8c4c-b36a9d94b5d0', 'productId': '9781785280009', 'productName': 'Linux Device Drivers Development', 'releaseDate': '2017-10-20T00:00:00.000Z', 'entitlementSource': 'free learning', 'entitlementLink': 'dfe35014-2a09-3fed-8c10-8b58922ec14e', 'createdAt': '2018-11-07T01:15:17.000Z', 'updatedAt': '2018-11-09T14:37:25.000Z'}, {'id': 'a7b4485c-06c4-32d3-a8af-6ab39106359d', 'userId': '0b594ff1-79ef-4495-8c4c-b36a9d94b5d0', 'productId': '9781785288326', 'productName': 'Raspberry Pi for Python Programmers Cookbook - Second Edition', 'releaseDate': '2016-10-07T00:00:00.000Z', 'entitlementSource': 'free learning', 'entitlementLink': '1ed0ddb2-0cd4-3b1e-8460-d7faffd64b2d', 'createdAt': '2018-11-03T02:17:43.000Z', 'updatedAt': '2018-11-06T19:24:56.000Z'}, {'id': 'd9882665-d5c9-3acc-8a8e-48946ba92e64', 'userId': '0b594ff1-79ef-4495-8c4c-b36a9d94b5d0', 'productId': '9781784390303', 'productName': 'Kali Linux Cookbook - Second Edition', 'releaseDate': '2017-09-12T00:00:00.000Z', 'entitlementSource': 'free learning', 'entitlementLink': '71b29dcb-07f7-36ab-aa6c-6be469bcee1e', 'createdAt': '2018-10-31T02:52:08.000Z', 'updatedAt': '2018-11-06T19:24:56.000Z'}, {'id': '5e469b4f-17dc-3665-9bb4-6761ffc9f222', 'userId': '0b594ff1-79ef-4495-8c4c-b36a9d94b5d0', 'productId': '9781785881473', 'productName': 'Drupal 8 Development Cookbook', 'releaseDate': '2016-03-08T00:00:00.000Z', 'entitlementSource': 'free learning', 'entitlementLink': '827c4517-6e98-37ee-ae64-69f107d8f816', 'createdAt': '2018-10-23T10:31:51.000Z', 'updatedAt': '2018-11-06T19:24:56.000Z'}, {'id': '908169e6-ee05-389a-b107-91c02631a754', 'userId': '0b594ff1-79ef-4495-8c4c-b36a9d94b5d0', 'productId': '9781787282049', 'productName': 'Perl 6 Deep Dive', 'releaseDate': '2017-09-11T00:00:00.000Z', 'entitlementSource': 'free learning', 'entitlementLink': '7bb26496-a90a-3ddd-a0c1-25d2708a286e', 'createdAt': '2018-10-22T13:31:07.000Z', 'updatedAt': '2018-11-06T19:24:56.000Z'}, {'id': 'f85e87cb-4ef3-35cc-895f-ec8e78d6ffa1', 'userId': '0b594ff1-79ef-4495-8c4c-b36a9d94b5d0', 'productId': '9781786468192', 'productName': 'Programming Microsoft Dynamics NAV - Fifth Edition', 'releaseDate': '2017-04-26T00:00:00.000Z', 'entitlementSource': 'free learning', 'entitlementLink': 'e0a599d1-2008-3bbb-a597-6a7cbd00aa29', 'createdAt': '2018-10-17T04:07:31.000Z', 'updatedAt': '2018-11-06T19:24:56.000Z'}, {'id': '4fccbff4-0ddf-3615-a117-e998ab5a423d', 'userId': '0b594ff1-79ef-4495-8c4c-b36a9d94b5d0', 'productId': '9781788299572', 'productName': 'Angular UI Development with PrimeNG', 'releaseDate': '2017-07-27T00:00:00.000Z', 'entitlementSource': 'free learning', 'entitlementLink': '137893ba-95f0-3648-ad11-e06389a882ab', 'createdAt': '2018-10-16T01:47:36.000Z', 'updatedAt': '2018-11-06T19:24:56.000Z'}, {'id': '961558d2-0b03-30a2-be0b-94ceb0ced719', 'userId': '0b594ff1-79ef-4495-8c4c-b36a9d94b5d0', 'productId': '9781788477802', 'productName': 'Mastering Swift 4 - Fourth Edition', 'releaseDate': '2017-09-27T00:00:00.000Z', 'entitlementSource': 'free learning', 'entitlementLink': 'b551ed8b-4cad-3dfe-82ad-79a4d8c80b8b', 'createdAt': '2018-10-12T01:56:46.000Z', 'updatedAt': '2018-11-06T19:24:56.000Z'}, {'id': '70614327-bcc6-3074-b6f7-c406acef9b1a', 'userId': '0b594ff1-79ef-4495-8c4c-b36a9d94b5d0', 'productId': '9781787289352', 'productName': 'Mastering Active Directory', 'releaseDate': '2017-06-30T00:00:00.000Z', 'entitlementSource': 'free learning', 'entitlementLink': '1dd30251-fac1-3182-9fc8-b83a0c6b7d7c', 'createdAt': '2018-10-11T01:48:59.000Z', 'updatedAt': '2018-11-06T19:24:56.000Z'}], 'count': 170}\n"
     ]
    },
    {
     "name": "stdout",
     "output_type": "stream",
     "text": [
      "Downloading Understanding Software done.\n",
      "Downloading Linux Device Drivers Development done.\n",
      "Downloading Raspberry Pi for Python Programmers Cookbook - Second Edition done.\n",
      "Downloading Kali Linux Cookbook - Second Edition done.\n",
      "Downloading Drupal 8 Development Cookbook done.\n",
      "Downloading Perl 6 Deep Dive done.\n",
      "Downloading Programming Microsoft Dynamics NAV - Fifth Edition done.\n",
      "Downloading Angular UI Development with PrimeNG done.\n",
      "Downloading Mastering Swift 4 - Fourth Edition done.\n"
     ]
    }
   ],
   "source": [
    "def main():\n",
    "    # Make download dir if not exist\n",
    "    if not os.path.exists('downloads'):\n",
    "        os.makedirs('downloads')\n",
    "    \n",
    "    # Start from 0\n",
    "    start = 10\n",
    "    while start < 30:\n",
    "        products = get_products(access, start, 10)\n",
    "        if len(products) == 0:\n",
    "            break\n",
    "        \n",
    "        for product in products:\n",
    "            name = product['productName']\n",
    "            path = f'downloads/{name}'\n",
    "\n",
    "            if not os.path.exists(path):\n",
    "                os.makedirs(path)\n",
    "\n",
    "            download_epub(access, product, path)\n",
    "            download_mobi(access, product, path)\n",
    "            download_pdf(access, product, path)\n",
    "            download_code(access, product, path)\n",
    "\n",
    "            print(f'Downloading {name} done.')\n",
    "        start += 10\n",
    "    print('All done.')\n",
    "    \n",
    "main()"
   ]
  },
  {
   "cell_type": "code",
   "execution_count": null,
   "metadata": {},
   "outputs": [],
   "source": []
  }
 ],
 "metadata": {
  "kernelspec": {
   "display_name": "Python 3",
   "language": "python",
   "name": "python3"
  },
  "language_info": {
   "codemirror_mode": {
    "name": "ipython",
    "version": 3
   },
   "file_extension": ".py",
   "mimetype": "text/x-python",
   "name": "python",
   "nbconvert_exporter": "python",
   "pygments_lexer": "ipython3",
   "version": "3.8.2"
  }
 },
 "nbformat": 4,
 "nbformat_minor": 4
}
